{
  "nbformat": 4,
  "nbformat_minor": 0,
  "metadata": {
    "colab": {
      "provenance": [],
      "gpuType": "T4",
      "authorship_tag": "ABX9TyOsJMbrXlm5pXLD94risler",
      "include_colab_link": true
    },
    "kernelspec": {
      "name": "python3",
      "display_name": "Python 3"
    },
    "language_info": {
      "name": "python"
    },
    "accelerator": "GPU"
  },
  "cells": [
    {
      "cell_type": "markdown",
      "metadata": {
        "id": "view-in-github",
        "colab_type": "text"
      },
      "source": [
        "<a href=\"https://colab.research.google.com/github/bestdiya/IMAGE-CLASSIFICATION/blob/main/Copy_of_DATA_AUG_SEMSEG.ipynb\" target=\"_parent\"><img src=\"https://colab.research.google.com/assets/colab-badge.svg\" alt=\"Open In Colab\"/></a>"
      ]
    },
    {
      "cell_type": "code",
      "source": [
        "from keras.preprocessing.image import ImageDataGenerator\n",
        "from skimage import io\n",
        "\n",
        "# Construct an instance of the ImageDataGenerator class\n",
        "# Pass the augmentation parameters through the constructor.\n",
        "\n",
        "datagen = ImageDataGenerator(\n",
        "        rotation_range=45,     #Random rotation between 0 and 45\n",
        "        width_shift_range=0.2,   #% shift\n",
        "        height_shift_range=0.2,\n",
        "        shear_range=0.2,\n",
        "        zoom_range=0.2,\n",
        "        horizontal_flip=True,\n",
        "        fill_mode='constant', cval=125)    #Also try nearest, constant, reflect, wrap\n",
        "\n",
        "\n",
        "######################################################################\n",
        "#Loading a single image for demonstration purposes.\n",
        "#Using flow method to augment the image\n",
        "\n",
        "# Loading a sample image\n",
        "#Can use any library to read images but they need to be in an array form\n",
        "#If using keras load_img convert it to an array first\n",
        "x = io.imread('/content/BC-04_Ap_crop_XY05_Z04_RGB.jpg')  #Array with shape (256, 256, 3)\n",
        "\n",
        "# Reshape the input image because ...\n",
        "#x: Input data to datagen.flow must be Numpy array of rank 4 or a tuple.\n",
        "#First element represents the number of images\n",
        "x = x.reshape((1, ) + x.shape)  #Array with shape (1, 256, 256, 3)\n",
        "\n",
        "i = 0\n",
        "for batch in datagen.flow(x, batch_size=16,\n",
        "                          save_to_dir='augmented',\n",
        "                          save_prefix='aug',\n",
        "                          save_format='png'):\n",
        "    i += 1\n",
        "    if i > 20:\n",
        "        break  # otherwise the generator would loop indefinitely\n",
        "\n",
        "\n",
        "####################################################################"
      ],
      "metadata": {
        "id": "wyUi0QlT0ZqB"
      },
      "execution_count": 2,
      "outputs": []
    },
    {
      "cell_type": "code",
      "source": [
        "import sys\n",
        "print(sys.version)\n"
      ],
      "metadata": {
        "colab": {
          "base_uri": "https://localhost:8080/"
        },
        "id": "l8wmXpDHJ8vQ",
        "outputId": "4c7c02c1-1aa0-437c-d9ad-dbf95ee1123f"
      },
      "execution_count": null,
      "outputs": [
        {
          "output_type": "stream",
          "name": "stdout",
          "text": [
            "3.10.12 (main, Jun 11 2023, 05:26:28) [GCC 11.4.0]\n"
          ]
        }
      ]
    },
    {
      "cell_type": "code",
      "source": [
        "import os\n",
        "\n",
        "# Create the 'augmented' directory if it doesn't exist\n",
        "if not os.path.exists('augmented'):\n",
        "    os.makedirs('augmented')"
      ],
      "metadata": {
        "id": "sbGqUTqK3PUv"
      },
      "execution_count": 1,
      "outputs": []
    },
    {
      "cell_type": "code",
      "source": [
        "!zip -r augmented.zip augmented\n"
      ],
      "metadata": {
        "colab": {
          "base_uri": "https://localhost:8080/"
        },
        "id": "DAJGsHQd3rCm",
        "outputId": "64419ddf-453f-4d46-a66b-af98c9a136aa"
      },
      "execution_count": 3,
      "outputs": [
        {
          "output_type": "stream",
          "name": "stdout",
          "text": [
            "  adding: augmented/ (stored 0%)\n",
            "  adding: augmented/aug_0_7963.png (deflated 0%)\n",
            "  adding: augmented/aug_0_4872.png (deflated 0%)\n",
            "  adding: augmented/aug_0_4294.png (deflated 0%)\n",
            "  adding: augmented/aug_0_6473.png (deflated 0%)\n",
            "  adding: augmented/aug_0_3709.png (deflated 0%)\n",
            "  adding: augmented/aug_0_2493.png (deflated 0%)\n",
            "  adding: augmented/aug_0_9890.png (deflated 0%)\n",
            "  adding: augmented/aug_0_8919.png (deflated 0%)\n",
            "  adding: augmented/aug_0_195.png (deflated 0%)\n",
            "  adding: augmented/aug_0_4882.png (deflated 0%)\n",
            "  adding: augmented/aug_0_2931.png (deflated 0%)\n",
            "  adding: augmented/aug_0_553.png (deflated 0%)\n",
            "  adding: augmented/aug_0_2116.png (deflated 0%)\n",
            "  adding: augmented/aug_0_8556.png (deflated 0%)\n",
            "  adding: augmented/aug_0_7257.png (deflated 0%)\n",
            "  adding: augmented/aug_0_4948.png (deflated 0%)\n",
            "  adding: augmented/aug_0_417.png (deflated 0%)\n",
            "  adding: augmented/aug_0_75.png (deflated 0%)\n",
            "  adding: augmented/aug_0_3242.png (deflated 0%)\n",
            "  adding: augmented/aug_0_7059.png (deflated 0%)\n",
            "  adding: augmented/aug_0_2720.png (deflated 0%)\n"
          ]
        }
      ]
    },
    {
      "cell_type": "code",
      "source": [
        "from google.colab import files\n",
        "files.download('augmented.zip')\n"
      ],
      "metadata": {
        "id": "D1O5papZ6N_c"
      },
      "execution_count": null,
      "outputs": []
    },
    {
      "cell_type": "code",
      "source": [
        "dataset = []\n",
        "\n",
        "import numpy as np\n",
        "from skimage import io\n",
        "import os\n",
        "from PIL import Image\n",
        "\n",
        "image_directory = 'test_folder/'\n",
        "SIZE = 128\n",
        "dataset = []\n",
        "\n",
        "my_images = os.listdir(image_directory)\n",
        "for i, image_name in enumerate(my_images):\n",
        "    if (image_name.split('.')[1] == 'jpg'):\n",
        "        image = io.imread(image_directory + image_name)\n",
        "        image = Image.fromarray(image, 'RGB')\n",
        "        image = image.resize((SIZE,SIZE))\n",
        "        dataset.append(np.array(image))\n",
        "\n",
        "x = np.array(dataset)\n",
        "\n",
        "#Let us save images to get a feel for the augmented images.\n",
        "#Create an iterator either by using image dataset in memory (using flow() function)\n",
        "#or by using image dataset from a directory (using flow_from_directory)\n",
        "#from directory can beuseful if subdirectories are organized by class\n",
        "\n",
        "# Generating and saving 10 augmented samples\n",
        "# using the above defined parameters.\n",
        "#Again, flow generates batches of randomly augmented images\n",
        "\n",
        "# i = 0\n",
        "# for batch in datagen.flow(x, batch_size=16,\n",
        "#                           save_to_dir='test_folder',\n",
        "#                           save_prefix='aug',\n",
        "#                           save_format='png'):\n",
        "#     i += 1\n",
        "#     if i > 20:\n",
        "#         break  # otherwise the generator would loop indefinitely\n",
        "\n",
        "\n",
        "\n",
        "#####################################################################"
      ],
      "metadata": {
        "id": "g8wvPzBW6V7C"
      },
      "execution_count": 10,
      "outputs": []
    },
    {
      "cell_type": "code",
      "source": [
        "import os\n",
        "\n",
        "# Create the 'augmented' directory if it doesn't exist\n",
        "if not os.path.exists('test_folder'):\n",
        "    os.makedirs('test_folder')"
      ],
      "metadata": {
        "id": "kQVJ9OZ676YK"
      },
      "execution_count": 5,
      "outputs": []
    },
    {
      "cell_type": "code",
      "source": [
        "!zip -r test_folder.zip test_folder"
      ],
      "metadata": {
        "colab": {
          "base_uri": "https://localhost:8080/"
        },
        "id": "s5Tfy9zX8IVP",
        "outputId": "4752bdce-7ce2-441f-ff86-91bf2b9505b0"
      },
      "execution_count": 6,
      "outputs": [
        {
          "output_type": "stream",
          "name": "stdout",
          "text": [
            "  adding: test_folder/ (stored 0%)\n"
          ]
        }
      ]
    },
    {
      "cell_type": "code",
      "source": [
        "from google.colab import files\n",
        "files.download('test_folder')"
      ],
      "metadata": {
        "id": "dfK7zfI79AuM"
      },
      "execution_count": null,
      "outputs": []
    },
    {
      "cell_type": "code",
      "source": [
        "x.shape"
      ],
      "metadata": {
        "colab": {
          "base_uri": "https://localhost:8080/"
        },
        "id": "vCOWKdRa9GYJ",
        "outputId": "a67f1ff4-1ad3-4aad-adbb-f8635049924e"
      },
      "execution_count": 8,
      "outputs": [
        {
          "output_type": "execute_result",
          "data": {
            "text/plain": [
              "(1, 804, 804, 3)"
            ]
          },
          "metadata": {},
          "execution_count": 8
        }
      ]
    },
    {
      "cell_type": "code",
      "source": [
        "i = 0\n",
        "for batch in datagen.flow(x, batch_size=16,\n",
        "                          save_to_dir='augmented',\n",
        "                          save_prefix='aug',\n",
        "                          save_format='png'):\n",
        "    i += 1\n",
        "    if i > 20:\n",
        "        break  # otherwise the generator would loop indefinitely"
      ],
      "metadata": {
        "id": "_2XNsy82-6KA"
      },
      "execution_count": 9,
      "outputs": []
    },
    {
      "cell_type": "code",
      "source": [],
      "metadata": {
        "id": "GYO3z7ZqLZVl"
      },
      "execution_count": null,
      "outputs": []
    }
  ]
}