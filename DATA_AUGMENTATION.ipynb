{
  "nbformat": 4,
  "nbformat_minor": 0,
  "metadata": {
    "colab": {
      "provenance": [],
      "gpuType": "T4",
      "authorship_tag": "ABX9TyOsJMbrXlm5pXLD94risler",
      "include_colab_link": true
    },
    "kernelspec": {
      "name": "python3",
      "display_name": "Python 3"
    },
    "language_info": {
      "name": "python"
    },
    "accelerator": "GPU"
  },
  "cells": [
    {
      "cell_type": "markdown",
      "metadata": {
        "id": "view-in-github",
        "colab_type": "text"
      },
      "source": [
        "<a href=\"https://colab.research.google.com/github/bestdiya/IMAGE-CLASSIFICATION/blob/main/DATA_AUGMENTATION.ipynb\" target=\"_parent\"><img src=\"https://colab.research.google.com/assets/colab-badge.svg\" alt=\"Open In Colab\"/></a>"
      ]
    },
    {
      "cell_type": "code",
      "source": [
        "from keras.preprocessing.image import ImageDataGenerator\n",
        "from skimage import io\n",
        "\n",
        "# Construct an instance of the ImageDataGenerator class\n",
        "# Pass the augmentation parameters through the constructor.\n",
        "\n",
        "datagen = ImageDataGenerator(\n",
        "        rotation_range=45,     #Random rotation between 0 and 45\n",
        "        width_shift_range=0.2,   #% shift\n",
        "        height_shift_range=0.2,\n",
        "        shear_range=0.2,\n",
        "        zoom_range=0.2,\n",
        "        horizontal_flip=True,\n",
        "        fill_mode='constant', cval=125)    #Also try nearest, constant, reflect, wrap\n",
        "\n",
        "\n",
        "######################################################################\n",
        "#Loading a single image for demonstration purposes.\n",
        "#Using flow method to augment the image\n",
        "\n",
        "# Loading a sample image\n",
        "#Can use any library to read images but they need to be in an array form\n",
        "#If using keras load_img convert it to an array first\n",
        "x = io.imread('/content/BC-04_Ap_crop_XY05_Z04_RGB.jpg')  #Array with shape (256, 256, 3)\n",
        "\n",
        "# Reshape the input image because ...\n",
        "#x: Input data to datagen.flow must be Numpy array of rank 4 or a tuple.\n",
        "#First element represents the number of images\n",
        "x = x.reshape((1, ) + x.shape)  #Array with shape (1, 256, 256, 3)\n",
        "\n",
        "i = 0\n",
        "for batch in datagen.flow(x, batch_size=16,\n",
        "                          save_to_dir='augmented',\n",
        "                          save_prefix='aug',\n",
        "                          save_format='png'):\n",
        "    i += 1\n",
        "    if i > 20:\n",
        "        break  # otherwise the generator would loop indefinitely\n",
        "\n",
        "\n",
        "####################################################################"
      ],
      "metadata": {
        "colab": {
          "base_uri": "https://localhost:8080/",
          "height": 546
        },
        "id": "wyUi0QlT0ZqB",
        "outputId": "86d73c58-c79e-4e66-b576-ac96185a5a51"
      },
      "execution_count": null,
      "outputs": [
        {
          "output_type": "stream",
          "name": "stderr",
          "text": [
            "Using TensorFlow backend.\n"
          ]
        },
        {
          "output_type": "error",
          "ename": "ImportError",
          "evalue": "ignored",
          "traceback": [
            "\u001b[0;31m---------------------------------------------------------------------------\u001b[0m",
            "\u001b[0;31mImportError\u001b[0m                               Traceback (most recent call last)",
            "\u001b[0;32m<ipython-input-2-f2d6a9d69147>\u001b[0m in \u001b[0;36m<cell line: 1>\u001b[0;34m()\u001b[0m\n\u001b[0;32m----> 1\u001b[0;31m \u001b[0;32mfrom\u001b[0m \u001b[0mkeras\u001b[0m\u001b[0;34m.\u001b[0m\u001b[0mpreprocessing\u001b[0m\u001b[0;34m.\u001b[0m\u001b[0mimage\u001b[0m \u001b[0;32mimport\u001b[0m \u001b[0mImageDataGenerator\u001b[0m\u001b[0;34m\u001b[0m\u001b[0;34m\u001b[0m\u001b[0m\n\u001b[0m\u001b[1;32m      2\u001b[0m \u001b[0;32mfrom\u001b[0m \u001b[0mskimage\u001b[0m \u001b[0;32mimport\u001b[0m \u001b[0mio\u001b[0m\u001b[0;34m\u001b[0m\u001b[0;34m\u001b[0m\u001b[0m\n\u001b[1;32m      3\u001b[0m \u001b[0;34m\u001b[0m\u001b[0m\n\u001b[1;32m      4\u001b[0m \u001b[0;31m# Construct an instance of the ImageDataGenerator class\u001b[0m\u001b[0;34m\u001b[0m\u001b[0;34m\u001b[0m\u001b[0m\n\u001b[1;32m      5\u001b[0m \u001b[0;31m# Pass the augmentation parameters through the constructor.\u001b[0m\u001b[0;34m\u001b[0m\u001b[0;34m\u001b[0m\u001b[0m\n",
            "\u001b[0;32m/usr/local/lib/python3.10/dist-packages/keras/__init__.py\u001b[0m in \u001b[0;36m<module>\u001b[0;34m\u001b[0m\n\u001b[1;32m      1\u001b[0m \u001b[0;32mfrom\u001b[0m \u001b[0m__future__\u001b[0m \u001b[0;32mimport\u001b[0m \u001b[0mabsolute_import\u001b[0m\u001b[0;34m\u001b[0m\u001b[0;34m\u001b[0m\u001b[0m\n\u001b[1;32m      2\u001b[0m \u001b[0;34m\u001b[0m\u001b[0m\n\u001b[0;32m----> 3\u001b[0;31m \u001b[0;32mfrom\u001b[0m \u001b[0;34m.\u001b[0m \u001b[0;32mimport\u001b[0m \u001b[0mutils\u001b[0m\u001b[0;34m\u001b[0m\u001b[0;34m\u001b[0m\u001b[0m\n\u001b[0m\u001b[1;32m      4\u001b[0m \u001b[0;32mfrom\u001b[0m \u001b[0;34m.\u001b[0m \u001b[0;32mimport\u001b[0m \u001b[0mactivations\u001b[0m\u001b[0;34m\u001b[0m\u001b[0;34m\u001b[0m\u001b[0m\n\u001b[1;32m      5\u001b[0m \u001b[0;32mfrom\u001b[0m \u001b[0;34m.\u001b[0m \u001b[0;32mimport\u001b[0m \u001b[0mapplications\u001b[0m\u001b[0;34m\u001b[0m\u001b[0;34m\u001b[0m\u001b[0m\n",
            "\u001b[0;32m/usr/local/lib/python3.10/dist-packages/keras/utils/__init__.py\u001b[0m in \u001b[0;36m<module>\u001b[0;34m\u001b[0m\n\u001b[1;32m     25\u001b[0m \u001b[0;32mfrom\u001b[0m \u001b[0;34m.\u001b[0m\u001b[0mnp_utils\u001b[0m \u001b[0;32mimport\u001b[0m \u001b[0mto_categorical\u001b[0m\u001b[0;34m\u001b[0m\u001b[0;34m\u001b[0m\u001b[0m\n\u001b[1;32m     26\u001b[0m \u001b[0;32mfrom\u001b[0m \u001b[0;34m.\u001b[0m\u001b[0mnp_utils\u001b[0m \u001b[0;32mimport\u001b[0m \u001b[0mnormalize\u001b[0m\u001b[0;34m\u001b[0m\u001b[0;34m\u001b[0m\u001b[0m\n\u001b[0;32m---> 27\u001b[0;31m \u001b[0;32mfrom\u001b[0m \u001b[0;34m.\u001b[0m\u001b[0mmulti_gpu_utils\u001b[0m \u001b[0;32mimport\u001b[0m \u001b[0mmulti_gpu_model\u001b[0m\u001b[0;34m\u001b[0m\u001b[0;34m\u001b[0m\u001b[0m\n\u001b[0m",
            "\u001b[0;32m/usr/local/lib/python3.10/dist-packages/keras/utils/multi_gpu_utils.py\u001b[0m in \u001b[0;36m<module>\u001b[0;34m\u001b[0m\n\u001b[1;32m      5\u001b[0m \u001b[0;32mfrom\u001b[0m \u001b[0m__future__\u001b[0m \u001b[0;32mimport\u001b[0m \u001b[0mprint_function\u001b[0m\u001b[0;34m\u001b[0m\u001b[0;34m\u001b[0m\u001b[0m\n\u001b[1;32m      6\u001b[0m \u001b[0;34m\u001b[0m\u001b[0m\n\u001b[0;32m----> 7\u001b[0;31m \u001b[0;32mfrom\u001b[0m \u001b[0;34m.\u001b[0m\u001b[0;34m.\u001b[0m\u001b[0mlayers\u001b[0m\u001b[0;34m.\u001b[0m\u001b[0mmerge\u001b[0m \u001b[0;32mimport\u001b[0m \u001b[0mconcatenate\u001b[0m\u001b[0;34m\u001b[0m\u001b[0;34m\u001b[0m\u001b[0m\n\u001b[0m\u001b[1;32m      8\u001b[0m \u001b[0;32mfrom\u001b[0m \u001b[0;34m.\u001b[0m\u001b[0;34m.\u001b[0m \u001b[0;32mimport\u001b[0m \u001b[0mbackend\u001b[0m \u001b[0;32mas\u001b[0m \u001b[0mK\u001b[0m\u001b[0;34m\u001b[0m\u001b[0;34m\u001b[0m\u001b[0m\n\u001b[1;32m      9\u001b[0m \u001b[0;32mfrom\u001b[0m \u001b[0;34m.\u001b[0m\u001b[0;34m.\u001b[0m\u001b[0mlayers\u001b[0m\u001b[0;34m.\u001b[0m\u001b[0mcore\u001b[0m \u001b[0;32mimport\u001b[0m \u001b[0mLambda\u001b[0m\u001b[0;34m\u001b[0m\u001b[0;34m\u001b[0m\u001b[0m\n",
            "\u001b[0;32m/usr/local/lib/python3.10/dist-packages/keras/layers/__init__.py\u001b[0m in \u001b[0;36m<module>\u001b[0;34m\u001b[0m\n\u001b[1;32m      2\u001b[0m \u001b[0;34m\u001b[0m\u001b[0m\n\u001b[1;32m      3\u001b[0m \u001b[0;32mfrom\u001b[0m \u001b[0;34m.\u001b[0m\u001b[0;34m.\u001b[0m\u001b[0mutils\u001b[0m\u001b[0;34m.\u001b[0m\u001b[0mgeneric_utils\u001b[0m \u001b[0;32mimport\u001b[0m \u001b[0mdeserialize_keras_object\u001b[0m\u001b[0;34m\u001b[0m\u001b[0;34m\u001b[0m\u001b[0m\n\u001b[0;32m----> 4\u001b[0;31m \u001b[0;32mfrom\u001b[0m \u001b[0;34m.\u001b[0m\u001b[0;34m.\u001b[0m\u001b[0mengine\u001b[0m\u001b[0;34m.\u001b[0m\u001b[0mbase_layer\u001b[0m \u001b[0;32mimport\u001b[0m \u001b[0mLayer\u001b[0m\u001b[0;34m\u001b[0m\u001b[0;34m\u001b[0m\u001b[0m\n\u001b[0m\u001b[1;32m      5\u001b[0m \u001b[0;32mfrom\u001b[0m \u001b[0;34m.\u001b[0m\u001b[0;34m.\u001b[0m\u001b[0mengine\u001b[0m \u001b[0;32mimport\u001b[0m \u001b[0mInput\u001b[0m\u001b[0;34m\u001b[0m\u001b[0;34m\u001b[0m\u001b[0m\n\u001b[1;32m      6\u001b[0m \u001b[0;32mfrom\u001b[0m \u001b[0;34m.\u001b[0m\u001b[0;34m.\u001b[0m\u001b[0mengine\u001b[0m \u001b[0;32mimport\u001b[0m \u001b[0mInputLayer\u001b[0m\u001b[0;34m\u001b[0m\u001b[0;34m\u001b[0m\u001b[0m\n",
            "\u001b[0;32m/usr/local/lib/python3.10/dist-packages/keras/engine/__init__.py\u001b[0m in \u001b[0;36m<module>\u001b[0;34m\u001b[0m\n\u001b[1;32m      6\u001b[0m \u001b[0;32mfrom\u001b[0m \u001b[0;34m.\u001b[0m\u001b[0mbase_layer\u001b[0m \u001b[0;32mimport\u001b[0m \u001b[0mLayer\u001b[0m\u001b[0;34m\u001b[0m\u001b[0;34m\u001b[0m\u001b[0m\n\u001b[1;32m      7\u001b[0m \u001b[0;32mfrom\u001b[0m \u001b[0;34m.\u001b[0m\u001b[0mnetwork\u001b[0m \u001b[0;32mimport\u001b[0m \u001b[0mget_source_inputs\u001b[0m\u001b[0;34m\u001b[0m\u001b[0;34m\u001b[0m\u001b[0m\n\u001b[0;32m----> 8\u001b[0;31m \u001b[0;32mfrom\u001b[0m \u001b[0;34m.\u001b[0m\u001b[0mtraining\u001b[0m \u001b[0;32mimport\u001b[0m \u001b[0mModel\u001b[0m\u001b[0;34m\u001b[0m\u001b[0;34m\u001b[0m\u001b[0m\n\u001b[0m",
            "\u001b[0;32m/usr/local/lib/python3.10/dist-packages/keras/engine/training.py\u001b[0m in \u001b[0;36m<module>\u001b[0;34m\u001b[0m\n\u001b[1;32m     19\u001b[0m \u001b[0;32mfrom\u001b[0m \u001b[0;34m.\u001b[0m\u001b[0mtraining_utils\u001b[0m \u001b[0;32mimport\u001b[0m \u001b[0mstandardize_weights\u001b[0m\u001b[0;34m\u001b[0m\u001b[0;34m\u001b[0m\u001b[0m\n\u001b[1;32m     20\u001b[0m \u001b[0;32mfrom\u001b[0m \u001b[0;34m.\u001b[0m\u001b[0mtraining_utils\u001b[0m \u001b[0;32mimport\u001b[0m \u001b[0mweighted_masked_objective\u001b[0m\u001b[0;34m\u001b[0m\u001b[0;34m\u001b[0m\u001b[0m\n\u001b[0;32m---> 21\u001b[0;31m \u001b[0;32mfrom\u001b[0m \u001b[0;34m.\u001b[0m \u001b[0;32mimport\u001b[0m \u001b[0mtraining_arrays\u001b[0m\u001b[0;34m\u001b[0m\u001b[0;34m\u001b[0m\u001b[0m\n\u001b[0m\u001b[1;32m     22\u001b[0m \u001b[0;32mfrom\u001b[0m \u001b[0;34m.\u001b[0m \u001b[0;32mimport\u001b[0m \u001b[0mtraining_generator\u001b[0m\u001b[0;34m\u001b[0m\u001b[0;34m\u001b[0m\u001b[0m\n\u001b[1;32m     23\u001b[0m \u001b[0;32mfrom\u001b[0m \u001b[0;34m.\u001b[0m\u001b[0;34m.\u001b[0m \u001b[0;32mimport\u001b[0m \u001b[0mbackend\u001b[0m \u001b[0;32mas\u001b[0m \u001b[0mK\u001b[0m\u001b[0;34m\u001b[0m\u001b[0;34m\u001b[0m\u001b[0m\n",
            "\u001b[0;32m/usr/local/lib/python3.10/dist-packages/keras/engine/training_arrays.py\u001b[0m in \u001b[0;36m<module>\u001b[0;34m\u001b[0m\n\u001b[1;32m     12\u001b[0m \u001b[0;32mfrom\u001b[0m \u001b[0;34m.\u001b[0m\u001b[0mtraining_utils\u001b[0m \u001b[0;32mimport\u001b[0m \u001b[0mcheck_num_samples\u001b[0m\u001b[0;34m\u001b[0m\u001b[0;34m\u001b[0m\u001b[0m\n\u001b[1;32m     13\u001b[0m \u001b[0;32mfrom\u001b[0m \u001b[0;34m.\u001b[0m\u001b[0;34m.\u001b[0m \u001b[0;32mimport\u001b[0m \u001b[0mbackend\u001b[0m \u001b[0;32mas\u001b[0m \u001b[0mK\u001b[0m\u001b[0;34m\u001b[0m\u001b[0;34m\u001b[0m\u001b[0m\n\u001b[0;32m---> 14\u001b[0;31m \u001b[0;32mfrom\u001b[0m \u001b[0;34m.\u001b[0m\u001b[0;34m.\u001b[0m \u001b[0;32mimport\u001b[0m \u001b[0mcallbacks\u001b[0m \u001b[0;32mas\u001b[0m \u001b[0mcbks\u001b[0m\u001b[0;34m\u001b[0m\u001b[0;34m\u001b[0m\u001b[0m\n\u001b[0m\u001b[1;32m     15\u001b[0m \u001b[0;32mfrom\u001b[0m \u001b[0;34m.\u001b[0m\u001b[0;34m.\u001b[0m\u001b[0mutils\u001b[0m\u001b[0;34m.\u001b[0m\u001b[0mgeneric_utils\u001b[0m \u001b[0;32mimport\u001b[0m \u001b[0mProgbar\u001b[0m\u001b[0;34m\u001b[0m\u001b[0;34m\u001b[0m\u001b[0m\n\u001b[1;32m     16\u001b[0m \u001b[0;32mfrom\u001b[0m \u001b[0;34m.\u001b[0m\u001b[0;34m.\u001b[0m\u001b[0mutils\u001b[0m\u001b[0;34m.\u001b[0m\u001b[0mgeneric_utils\u001b[0m \u001b[0;32mimport\u001b[0m \u001b[0mslice_arrays\u001b[0m\u001b[0;34m\u001b[0m\u001b[0;34m\u001b[0m\u001b[0m\n",
            "\u001b[0;32m/usr/local/lib/python3.10/dist-packages/keras/callbacks.py\u001b[0m in \u001b[0;36m<module>\u001b[0;34m\u001b[0m\n\u001b[1;32m     18\u001b[0m \u001b[0;32mfrom\u001b[0m \u001b[0mcollections\u001b[0m \u001b[0;32mimport\u001b[0m \u001b[0mdeque\u001b[0m\u001b[0;34m\u001b[0m\u001b[0;34m\u001b[0m\u001b[0m\n\u001b[1;32m     19\u001b[0m \u001b[0;32mfrom\u001b[0m \u001b[0mcollections\u001b[0m \u001b[0;32mimport\u001b[0m \u001b[0mOrderedDict\u001b[0m\u001b[0;34m\u001b[0m\u001b[0;34m\u001b[0m\u001b[0m\n\u001b[0;32m---> 20\u001b[0;31m \u001b[0;32mfrom\u001b[0m \u001b[0mcollections\u001b[0m \u001b[0;32mimport\u001b[0m \u001b[0mIterable\u001b[0m\u001b[0;34m\u001b[0m\u001b[0;34m\u001b[0m\u001b[0m\n\u001b[0m\u001b[1;32m     21\u001b[0m \u001b[0;32mfrom\u001b[0m \u001b[0;34m.\u001b[0m\u001b[0mutils\u001b[0m\u001b[0;34m.\u001b[0m\u001b[0mgeneric_utils\u001b[0m \u001b[0;32mimport\u001b[0m \u001b[0mProgbar\u001b[0m\u001b[0;34m\u001b[0m\u001b[0;34m\u001b[0m\u001b[0m\n\u001b[1;32m     22\u001b[0m \u001b[0;32mfrom\u001b[0m \u001b[0;34m.\u001b[0m \u001b[0;32mimport\u001b[0m \u001b[0mbackend\u001b[0m \u001b[0;32mas\u001b[0m \u001b[0mK\u001b[0m\u001b[0;34m\u001b[0m\u001b[0;34m\u001b[0m\u001b[0m\n",
            "\u001b[0;31mImportError\u001b[0m: cannot import name 'Iterable' from 'collections' (/usr/lib/python3.10/collections/__init__.py)",
            "",
            "\u001b[0;31m---------------------------------------------------------------------------\u001b[0;32m\nNOTE: If your import is failing due to a missing package, you can\nmanually install dependencies using either !pip or !apt.\n\nTo view examples of installing some common dependencies, click the\n\"Open Examples\" button below.\n\u001b[0;31m---------------------------------------------------------------------------\u001b[0m\n"
          ],
          "errorDetails": {
            "actions": [
              {
                "action": "open_url",
                "actionText": "Open Examples",
                "url": "/notebooks/snippets/importing_libraries.ipynb"
              }
            ]
          }
        }
      ]
    },
    {
      "cell_type": "code",
      "source": [
        "import sys\n",
        "print(sys.version)\n"
      ],
      "metadata": {
        "colab": {
          "base_uri": "https://localhost:8080/"
        },
        "id": "l8wmXpDHJ8vQ",
        "outputId": "4c7c02c1-1aa0-437c-d9ad-dbf95ee1123f"
      },
      "execution_count": null,
      "outputs": [
        {
          "output_type": "stream",
          "name": "stdout",
          "text": [
            "3.10.12 (main, Jun 11 2023, 05:26:28) [GCC 11.4.0]\n"
          ]
        }
      ]
    },
    {
      "cell_type": "code",
      "source": [
        "import os\n",
        "\n",
        "# Create the 'augmented' directory if it doesn't exist\n",
        "if not os.path.exists('augmented'):\n",
        "    os.makedirs('augmented')"
      ],
      "metadata": {
        "id": "sbGqUTqK3PUv"
      },
      "execution_count": null,
      "outputs": []
    },
    {
      "cell_type": "code",
      "source": [
        "!zip -r augmented.zip augmented\n"
      ],
      "metadata": {
        "colab": {
          "base_uri": "https://localhost:8080/"
        },
        "id": "DAJGsHQd3rCm",
        "outputId": "f7e0434d-4783-4114-eb63-7b34aa3e4552"
      },
      "execution_count": null,
      "outputs": [
        {
          "output_type": "stream",
          "name": "stdout",
          "text": [
            "updating: augmented/ (stored 0%)\n",
            "updating: augmented/aug_0_9019.png (deflated 0%)\n",
            "updating: augmented/aug_0_9166.png (deflated 0%)\n",
            "updating: augmented/aug_0_2073.png (deflated 0%)\n",
            "updating: augmented/aug_0_7418.png (deflated 0%)\n",
            "updating: augmented/aug_0_7240.png (deflated 0%)\n",
            "updating: augmented/aug_0_113.png (deflated 0%)\n",
            "updating: augmented/aug_0_709.png (deflated 0%)\n",
            "updating: augmented/aug_0_7726.png (deflated 0%)\n",
            "updating: augmented/aug_0_2374.png (deflated 0%)\n",
            "updating: augmented/aug_0_6332.png (deflated 0%)\n",
            "updating: augmented/aug_0_3031.png (deflated 0%)\n",
            "updating: augmented/aug_0_9229.png (deflated 0%)\n",
            "updating: augmented/aug_0_185.png (deflated 0%)\n",
            "updating: augmented/aug_0_7618.png (deflated 0%)\n",
            "updating: augmented/aug_0_2173.png (deflated 0%)\n",
            "updating: augmented/aug_0_3733.png (deflated 0%)\n",
            "updating: augmented/aug_0_9776.png (deflated 0%)\n",
            "updating: augmented/aug_0_571.png (deflated 0%)\n",
            "updating: augmented/aug_0_9210.png (deflated 0%)\n",
            "updating: augmented/aug_0_3506.png (deflated 0%)\n",
            "updating: augmented/aug_0_8213.png (deflated 0%)\n",
            "updating: augmented/aug_15_3149.png (deflated 0%)\n",
            "updating: augmented/aug_16_6552.png (deflated 0%)\n",
            "updating: augmented/aug_0_3710.png (stored 0%)\n",
            "updating: augmented/aug_4_4152.png (deflated 0%)\n",
            "updating: augmented/aug_4_3552.png (deflated 0%)\n",
            "updating: augmented/aug_10_8717.png (stored 0%)\n",
            "updating: augmented/aug_12_9038.png (deflated 0%)\n",
            "updating: augmented/aug_11_3756.png (deflated 0%)\n",
            "updating: augmented/aug_8_4593.png (deflated 0%)\n",
            "updating: augmented/aug_3_8078.png (deflated 0%)\n",
            "updating: augmented/aug_4_1697.png (stored 0%)\n",
            "updating: augmented/aug_17_8116.png (stored 0%)\n",
            "updating: augmented/aug_14_5346.png (stored 0%)\n",
            "updating: augmented/aug_16_4372.png (deflated 0%)\n",
            "updating: augmented/aug_0_7772.png (stored 0%)\n",
            "updating: augmented/aug_12_8733.png (stored 0%)\n",
            "updating: augmented/aug_11_9677.png (deflated 0%)\n",
            "updating: augmented/aug_12_1032.png (deflated 0%)\n",
            "updating: augmented/aug_2_9022.png (deflated 0%)\n",
            "updating: augmented/aug_16_8564.png (deflated 0%)\n",
            "updating: augmented/aug_13_8895.png (deflated 0%)\n",
            "updating: augmented/aug_2_7208.png (deflated 0%)\n",
            "updating: augmented/aug_2_9804.png (deflated 0%)\n",
            "updating: augmented/aug_5_9051.png (deflated 0%)\n",
            "updating: augmented/aug_10_7917.png (deflated 0%)\n",
            "updating: augmented/aug_7_5822.png (deflated 0%)\n",
            "updating: augmented/aug_4_2105.png (deflated 0%)\n",
            "updating: augmented/aug_2_6082.png (stored 0%)\n",
            "updating: augmented/aug_15_4244.png (deflated 0%)\n",
            "updating: augmented/aug_1_4284.png (deflated 0%)\n",
            "updating: augmented/aug_7_6131.png (deflated 0%)\n",
            "updating: augmented/aug_4_6092.png (deflated 0%)\n",
            "updating: augmented/aug_3_3990.png (deflated 0%)\n",
            "updating: augmented/aug_1_680.png (deflated 0%)\n",
            "updating: augmented/aug_0_1378.png (deflated 0%)\n",
            "updating: augmented/aug_0_4330.png (stored 0%)\n",
            "updating: augmented/aug_14_7859.png (deflated 0%)\n",
            "updating: augmented/aug_9_3668.png (stored 0%)\n",
            "updating: augmented/aug_9_7800.png (deflated 0%)\n",
            "updating: augmented/aug_2_5150.png (deflated 0%)\n",
            "updating: augmented/aug_0_4071.png (deflated 0%)\n",
            "updating: augmented/aug_8_1600.png (stored 0%)\n",
            "updating: augmented/aug_14_9662.png (deflated 0%)\n",
            "updating: augmented/aug_4_6153.png (deflated 0%)\n",
            "updating: augmented/aug_10_9612.png (deflated 0%)\n",
            "updating: augmented/aug_13_5107.png (deflated 0%)\n",
            "updating: augmented/aug_10_9345.png (deflated 0%)\n",
            "updating: augmented/aug_7_5560.png (deflated 0%)\n",
            "updating: augmented/aug_2_3279.png (deflated 0%)\n",
            "updating: augmented/aug_9_7665.png (stored 0%)\n",
            "updating: augmented/aug_6_6202.png (stored 0%)\n",
            "updating: augmented/aug_11_332.png (deflated 0%)\n",
            "updating: augmented/aug_1_4407.png (stored 0%)\n",
            "updating: augmented/aug_17_7716.png (deflated 0%)\n",
            "updating: augmented/aug_17_3255.png (deflated 0%)\n",
            "updating: augmented/aug_5_498.png (deflated 0%)\n",
            "updating: augmented/aug_7_1802.png (stored 0%)\n",
            "updating: augmented/aug_14_8629.png (deflated 0%)\n",
            "updating: augmented/aug_5_1669.png (stored 0%)\n",
            "updating: augmented/aug_5_313.png (stored 0%)\n",
            "updating: augmented/aug_0_3402.png (stored 0%)\n",
            "updating: augmented/aug_15_3772.png (deflated 0%)\n",
            "updating: augmented/aug_6_4571.png (deflated 0%)\n",
            "updating: augmented/aug_4_9731.png (deflated 0%)\n",
            "updating: augmented/aug_10_3160.png (deflated 0%)\n",
            "updating: augmented/aug_17_675.png (deflated 0%)\n",
            "updating: augmented/aug_11_3527.png (stored 0%)\n",
            "updating: augmented/aug_3_1470.png (deflated 0%)\n",
            "updating: augmented/aug_5_354.png (deflated 0%)\n",
            "updating: augmented/aug_8_5447.png (deflated 0%)\n",
            "updating: augmented/aug_5_8889.png (deflated 0%)\n",
            "updating: augmented/aug_11_1371.png (deflated 0%)\n",
            "updating: augmented/aug_8_4560.png (deflated 0%)\n",
            "updating: augmented/aug_11_5871.png (deflated 0%)\n",
            "updating: augmented/aug_5_7258.png (stored 0%)\n",
            "updating: augmented/aug_1_6653.png (deflated 0%)\n",
            "updating: augmented/aug_9_526.png (deflated 0%)\n",
            "updating: augmented/aug_2_7895.png (deflated 0%)\n",
            "updating: augmented/aug_2_2276.png (deflated 0%)\n",
            "updating: augmented/aug_2_5534.png (deflated 0%)\n",
            "updating: augmented/aug_17_9706.png (deflated 0%)\n",
            "updating: augmented/aug_16_849.png (deflated 0%)\n",
            "updating: augmented/aug_0_7679.png (stored 0%)\n",
            "updating: augmented/aug_13_3852.png (deflated 0%)\n",
            "updating: augmented/aug_9_5284.png (stored 0%)\n",
            "updating: augmented/aug_0_6475.png (deflated 0%)\n",
            "updating: augmented/aug_8_2792.png (deflated 0%)\n",
            "updating: augmented/aug_1_7288.png (stored 0%)\n",
            "updating: augmented/aug_0_4444.png (stored 0%)\n",
            "updating: augmented/aug_15_8313.png (deflated 0%)\n",
            "updating: augmented/aug_14_8472.png (deflated 0%)\n",
            "updating: augmented/aug_11_7065.png (deflated 0%)\n",
            "updating: augmented/aug_3_5534.png (deflated 0%)\n",
            "updating: augmented/aug_3_4683.png (deflated 0%)\n",
            "updating: augmented/aug_11_8803.png (stored 0%)\n",
            "updating: augmented/aug_5_8000.png (deflated 0%)\n",
            "updating: augmented/aug_3_9225.png (deflated 0%)\n",
            "updating: augmented/aug_14_3763.png (deflated 0%)\n",
            "updating: augmented/aug_5_2880.png (stored 0%)\n",
            "updating: augmented/aug_17_8743.png (deflated 0%)\n",
            "updating: augmented/aug_6_200.png (stored 0%)\n",
            "updating: augmented/aug_8_6554.png (deflated 0%)\n",
            "updating: augmented/aug_1_1475.png (deflated 0%)\n",
            "updating: augmented/aug_7_4546.png (stored 0%)\n",
            "updating: augmented/aug_15_5736.png (deflated 0%)\n",
            "updating: augmented/aug_12_3458.png (stored 0%)\n",
            "updating: augmented/aug_1_8569.png (deflated 0%)\n",
            "updating: augmented/aug_10_8420.png (deflated 0%)\n",
            "updating: augmented/aug_15_6885.png (stored 0%)\n",
            "updating: augmented/aug_9_267.png (deflated 0%)\n",
            "updating: augmented/aug_7_1215.png (stored 0%)\n",
            "updating: augmented/aug_0_744.png (stored 0%)\n",
            "updating: augmented/aug_13_6627.png (deflated 0%)\n",
            "updating: augmented/aug_4_1854.png (deflated 0%)\n",
            "updating: augmented/aug_14_9019.png (deflated 0%)\n",
            "updating: augmented/aug_11_2537.png (deflated 0%)\n",
            "updating: augmented/aug_16_7088.png (deflated 0%)\n",
            "updating: augmented/aug_1_5108.png (stored 0%)\n",
            "updating: augmented/aug_3_7462.png (deflated 0%)\n",
            "updating: augmented/aug_13_6003.png (deflated 0%)\n",
            "updating: augmented/aug_6_926.png (stored 0%)\n",
            "updating: augmented/aug_17_736.png (deflated 0%)\n",
            "updating: augmented/aug_1_7073.png (deflated 0%)\n",
            "updating: augmented/aug_7_5524.png (stored 0%)\n",
            "updating: augmented/aug_14_9396.png (deflated 0%)\n",
            "updating: augmented/aug_10_8860.png (stored 0%)\n",
            "updating: augmented/aug_13_5932.png (deflated 0%)\n",
            "updating: augmented/aug_16_3540.png (deflated 0%)\n",
            "updating: augmented/aug_1_9942.png (stored 0%)\n",
            "updating: augmented/aug_13_3480.png (deflated 0%)\n",
            "updating: augmented/aug_6_3090.png (deflated 0%)\n",
            "updating: augmented/aug_3_1793.png (deflated 0%)\n",
            "updating: augmented/aug_9_4888.png (deflated 0%)\n",
            "updating: augmented/aug_15_1702.png (deflated 0%)\n",
            "updating: augmented/aug_3_5016.png (deflated 0%)\n",
            "updating: augmented/aug_12_4220.png (deflated 0%)\n",
            "updating: augmented/aug_12_2503.png (stored 0%)\n",
            "updating: augmented/aug_6_242.png (deflated 0%)\n",
            "updating: augmented/aug_14_9683.png (stored 0%)\n",
            "updating: augmented/aug_15_1413.png (deflated 0%)\n",
            "updating: augmented/aug_17_4481.png (deflated 0%)\n",
            "updating: augmented/aug_14_2301.png (stored 0%)\n",
            "updating: augmented/aug_10_7882.png (stored 0%)\n",
            "updating: augmented/aug_14_9109.png (stored 0%)\n",
            "updating: augmented/aug_13_4598.png (deflated 0%)\n",
            "updating: augmented/aug_4_8350.png (deflated 0%)\n",
            "updating: augmented/aug_1_8104.png (deflated 0%)\n",
            "updating: augmented/aug_9_6409.png (deflated 0%)\n",
            "updating: augmented/aug_13_9153.png (deflated 0%)\n",
            "updating: augmented/aug_3_6372.png (stored 0%)\n",
            "updating: augmented/aug_5_586.png (deflated 0%)\n",
            "updating: augmented/aug_8_5996.png (deflated 0%)\n",
            "updating: augmented/aug_16_9502.png (deflated 0%)\n",
            "updating: augmented/aug_7_2869.png (stored 0%)\n",
            "updating: augmented/aug_12_4681.png (deflated 0%)\n",
            "updating: augmented/aug_8_2872.png (deflated 0%)\n",
            "updating: augmented/aug_10_9055.png (stored 0%)\n",
            "updating: augmented/aug_15_2443.png (deflated 0%)\n",
            "updating: augmented/aug_17_4779.png (deflated 0%)\n",
            "updating: augmented/aug_9_876.png (deflated 0%)\n",
            "updating: augmented/aug_7_662.png (stored 0%)\n",
            "updating: augmented/aug_10_5196.png (deflated 0%)\n",
            "updating: augmented/aug_4_5515.png (deflated 0%)\n",
            "updating: augmented/aug_6_1956.png (deflated 0%)\n",
            "updating: augmented/aug_12_3102.png (deflated 0%)\n",
            "updating: augmented/aug_8_7472.png (deflated 0%)\n",
            "updating: augmented/aug_9_6562.png (deflated 0%)\n",
            "updating: augmented/aug_5_4362.png (stored 0%)\n",
            "updating: augmented/aug_17_5881.png (deflated 0%)\n",
            "updating: augmented/aug_17_448.png (deflated 0%)\n",
            "updating: augmented/aug_3_3556.png (deflated 0%)\n",
            "updating: augmented/aug_11_371.png (deflated 0%)\n",
            "updating: augmented/aug_2_8143.png (deflated 0%)\n",
            "updating: augmented/aug_6_2757.png (deflated 0%)\n",
            "updating: augmented/aug_7_2023.png (stored 0%)\n",
            "updating: augmented/aug_16_474.png (stored 0%)\n",
            "updating: augmented/aug_15_526.png (deflated 0%)\n",
            "updating: augmented/aug_6_3865.png (deflated 0%)\n",
            "updating: augmented/aug_4_3599.png (deflated 0%)\n",
            "updating: augmented/aug_11_7069.png (deflated 0%)\n",
            "updating: augmented/aug_7_3389.png (stored 0%)\n",
            "updating: augmented/aug_0_4853.png (stored 0%)\n",
            "updating: augmented/aug_12_7893.png (deflated 0%)\n",
            "updating: augmented/aug_10_2195.png (deflated 0%)\n",
            "updating: augmented/aug_8_7927.png (deflated 0%)\n",
            "updating: augmented/aug_16_5156.png (deflated 0%)\n",
            "updating: augmented/aug_8_3835.png (deflated 0%)\n",
            "updating: augmented/aug_12_8389.png (deflated 0%)\n",
            "updating: augmented/aug_6_539.png (deflated 0%)\n",
            "updating: augmented/aug_16_9018.png (deflated 0%)\n",
            "updating: augmented/aug_6_7600.png (deflated 0%)\n",
            "updating: augmented/aug_9_9223.png (deflated 0%)\n",
            "updating: augmented/aug_2_1449.png (deflated 0%)\n",
            "updating: augmented/aug_13_3100.png (deflated 0%)\n",
            "updating: augmented/aug_16_6574.png (deflated 0%)\n",
            "updating: augmented/aug_15_1384.png (deflated 0%)\n"
          ]
        }
      ]
    },
    {
      "cell_type": "code",
      "source": [
        "from google.colab import files\n",
        "files.download('augmented.zip')\n"
      ],
      "metadata": {
        "colab": {
          "base_uri": "https://localhost:8080/",
          "height": 17
        },
        "id": "D1O5papZ6N_c",
        "outputId": "d37e5a61-e479-4854-ca62-10c6ec2b4b09"
      },
      "execution_count": null,
      "outputs": [
        {
          "output_type": "display_data",
          "data": {
            "text/plain": [
              "<IPython.core.display.Javascript object>"
            ],
            "application/javascript": [
              "\n",
              "    async function download(id, filename, size) {\n",
              "      if (!google.colab.kernel.accessAllowed) {\n",
              "        return;\n",
              "      }\n",
              "      const div = document.createElement('div');\n",
              "      const label = document.createElement('label');\n",
              "      label.textContent = `Downloading \"${filename}\": `;\n",
              "      div.appendChild(label);\n",
              "      const progress = document.createElement('progress');\n",
              "      progress.max = size;\n",
              "      div.appendChild(progress);\n",
              "      document.body.appendChild(div);\n",
              "\n",
              "      const buffers = [];\n",
              "      let downloaded = 0;\n",
              "\n",
              "      const channel = await google.colab.kernel.comms.open(id);\n",
              "      // Send a message to notify the kernel that we're ready.\n",
              "      channel.send({})\n",
              "\n",
              "      for await (const message of channel.messages) {\n",
              "        // Send a message to notify the kernel that we're ready.\n",
              "        channel.send({})\n",
              "        if (message.buffers) {\n",
              "          for (const buffer of message.buffers) {\n",
              "            buffers.push(buffer);\n",
              "            downloaded += buffer.byteLength;\n",
              "            progress.value = downloaded;\n",
              "          }\n",
              "        }\n",
              "      }\n",
              "      const blob = new Blob(buffers, {type: 'application/binary'});\n",
              "      const a = document.createElement('a');\n",
              "      a.href = window.URL.createObjectURL(blob);\n",
              "      a.download = filename;\n",
              "      div.appendChild(a);\n",
              "      a.click();\n",
              "      div.remove();\n",
              "    }\n",
              "  "
            ]
          },
          "metadata": {}
        },
        {
          "output_type": "display_data",
          "data": {
            "text/plain": [
              "<IPython.core.display.Javascript object>"
            ],
            "application/javascript": [
              "download(\"download_0304c9f7-5130-4107-9f1f-a1f34e8a6587\", \"augmented.zip\", 17879513)"
            ]
          },
          "metadata": {}
        }
      ]
    },
    {
      "cell_type": "code",
      "source": [
        "dataset = []\n",
        "\n",
        "import numpy as np\n",
        "from skimage import io\n",
        "import os\n",
        "from PIL import Image\n",
        "\n",
        "image_directory = 'test_folder/'\n",
        "SIZE = 128\n",
        "dataset = []\n",
        "\n",
        "my_images = os.listdir(image_directory)\n",
        "for i, image_name in enumerate(my_images):\n",
        "    if (image_name.split('.')[1] == 'jpg'):\n",
        "        image = io.imread(image_directory + image_name)\n",
        "        image = Image.fromarray(image, 'RGB')\n",
        "        image = image.resize((SIZE,SIZE))\n",
        "        dataset.append(np.array(image))\n",
        "\n",
        "x = np.array(dataset)\n",
        "\n",
        "#Let us save images to get a feel for the augmented images.\n",
        "#Create an iterator either by using image dataset in memory (using flow() function)\n",
        "#or by using image dataset from a directory (using flow_from_directory)\n",
        "#from directory can beuseful if subdirectories are organized by class\n",
        "\n",
        "# Generating and saving 10 augmented samples\n",
        "# using the above defined parameters.\n",
        "#Again, flow generates batches of randomly augmented images\n",
        "\n",
        "# i = 0\n",
        "# for batch in datagen.flow(x, batch_size=16,\n",
        "#                           save_to_dir='test_folder',\n",
        "#                           save_prefix='aug',\n",
        "#                           save_format='png'):\n",
        "#     i += 1\n",
        "#     if i > 20:\n",
        "#         break  # otherwise the generator would loop indefinitely\n",
        "\n",
        "\n",
        "\n",
        "#####################################################################"
      ],
      "metadata": {
        "id": "g8wvPzBW6V7C"
      },
      "execution_count": null,
      "outputs": []
    },
    {
      "cell_type": "code",
      "source": [
        "import os\n",
        "\n",
        "# Create the 'augmented' directory if it doesn't exist\n",
        "if not os.path.exists('test_folder'):\n",
        "    os.makedirs('test_folder')"
      ],
      "metadata": {
        "id": "kQVJ9OZ676YK"
      },
      "execution_count": null,
      "outputs": []
    },
    {
      "cell_type": "code",
      "source": [
        "!zip -r test_folder.zip test_folder"
      ],
      "metadata": {
        "colab": {
          "base_uri": "https://localhost:8080/"
        },
        "id": "s5Tfy9zX8IVP",
        "outputId": "915228f9-5e59-42bd-d2db-feb6a5aca2be"
      },
      "execution_count": null,
      "outputs": [
        {
          "output_type": "stream",
          "name": "stdout",
          "text": [
            "updating: test_folder/ (stored 0%)\n",
            "updating: test_folder/img_XY34_Z06.jpg (deflated 0%)\n",
            "updating: test_folder/img_XY31_Z06.jpg (deflated 0%)\n",
            "updating: test_folder/img_XY23_Z05.jpg (deflated 0%)\n",
            "updating: test_folder/img_XY19_Z05.jpg (deflated 0%)\n",
            "updating: test_folder/img_XY26_Z04.jpg (deflated 0%)\n",
            "updating: test_folder/img_XY28_Z06.jpg (deflated 0%)\n",
            "updating: test_folder/img_XY32_Z06.jpg (deflated 0%)\n",
            "updating: test_folder/img_XY25_Z04.jpg (deflated 0%)\n",
            "updating: test_folder/img_XY21_Z05.jpg (deflated 0%)\n",
            "updating: test_folder/img_XY35_Z06.jpg (deflated 0%)\n",
            "updating: test_folder/img_XY24_Z04.jpg (deflated 0%)\n",
            "updating: test_folder/img_XY20_Z05.jpg (deflated 0%)\n",
            "updating: test_folder/img_XY33_Z06.jpg (deflated 0%)\n",
            "updating: test_folder/img_XY30_Z06.jpg (deflated 0%)\n",
            "updating: test_folder/img_XY36_Z06.jpg (deflated 0%)\n",
            "updating: test_folder/img_XY27_Z04.jpg (deflated 0%)\n",
            "updating: test_folder/img_XY22_Z05.jpg (deflated 0%)\n",
            "updating: test_folder/img_XY29_Z06.jpg (deflated 0%)\n"
          ]
        }
      ]
    },
    {
      "cell_type": "code",
      "source": [
        "from google.colab import files\n",
        "files.download('test_folder')"
      ],
      "metadata": {
        "id": "dfK7zfI79AuM"
      },
      "execution_count": null,
      "outputs": []
    },
    {
      "cell_type": "code",
      "source": [
        "x.shape"
      ],
      "metadata": {
        "colab": {
          "base_uri": "https://localhost:8080/"
        },
        "id": "vCOWKdRa9GYJ",
        "outputId": "4be6408c-b5d1-4e5f-aeca-bf01d93fe312"
      },
      "execution_count": null,
      "outputs": [
        {
          "output_type": "execute_result",
          "data": {
            "text/plain": [
              "(18, 128, 128, 3)"
            ]
          },
          "metadata": {},
          "execution_count": 25
        }
      ]
    },
    {
      "cell_type": "code",
      "source": [
        "i = 0\n",
        "for batch in datagen.flow(x, batch_size=16,\n",
        "                          save_to_dir='augmented',\n",
        "                          save_prefix='aug',\n",
        "                          save_format='png'):\n",
        "    i += 1\n",
        "    if i > 20:\n",
        "        break  # otherwise the generator would loop indefinitely"
      ],
      "metadata": {
        "colab": {
          "base_uri": "https://localhost:8080/",
          "height": 245
        },
        "id": "_2XNsy82-6KA",
        "outputId": "34bed628-9a51-4460-bb3b-6cb41694ed2a"
      },
      "execution_count": null,
      "outputs": [
        {
          "output_type": "error",
          "ename": "NameError",
          "evalue": "ignored",
          "traceback": [
            "\u001b[0;31m---------------------------------------------------------------------------\u001b[0m",
            "\u001b[0;31mNameError\u001b[0m                                 Traceback (most recent call last)",
            "\u001b[0;32m<ipython-input-42-e0ab9ccc8a17>\u001b[0m in \u001b[0;36m<cell line: 2>\u001b[0;34m()\u001b[0m\n\u001b[1;32m      1\u001b[0m \u001b[0mi\u001b[0m \u001b[0;34m=\u001b[0m \u001b[0;36m0\u001b[0m\u001b[0;34m\u001b[0m\u001b[0;34m\u001b[0m\u001b[0m\n\u001b[0;32m----> 2\u001b[0;31m for batch in datagen.flow(x, batch_size=16,  \n\u001b[0m\u001b[1;32m      3\u001b[0m                           \u001b[0msave_to_dir\u001b[0m\u001b[0;34m=\u001b[0m\u001b[0;34m'augmented'\u001b[0m\u001b[0;34m,\u001b[0m\u001b[0;34m\u001b[0m\u001b[0;34m\u001b[0m\u001b[0m\n\u001b[1;32m      4\u001b[0m                           \u001b[0msave_prefix\u001b[0m\u001b[0;34m=\u001b[0m\u001b[0;34m'aug'\u001b[0m\u001b[0;34m,\u001b[0m\u001b[0;34m\u001b[0m\u001b[0;34m\u001b[0m\u001b[0m\n\u001b[1;32m      5\u001b[0m                           save_format='png'):\n",
            "\u001b[0;31mNameError\u001b[0m: name 'datagen' is not defined"
          ]
        }
      ]
    },
    {
      "cell_type": "code",
      "source": [],
      "metadata": {
        "id": "GYO3z7ZqLZVl"
      },
      "execution_count": null,
      "outputs": []
    }
  ]
}