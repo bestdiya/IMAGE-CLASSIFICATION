{
  "nbformat": 4,
  "nbformat_minor": 0,
  "metadata": {
    "colab": {
      "provenance": [],
      "authorship_tag": "ABX9TyNuBBAq+nxeYtxPQ+aXd0mi",
      "include_colab_link": true
    },
    "kernelspec": {
      "name": "python3",
      "display_name": "Python 3"
    },
    "language_info": {
      "name": "python"
    }
  },
  "cells": [
    {
      "cell_type": "markdown",
      "metadata": {
        "id": "view-in-github",
        "colab_type": "text"
      },
      "source": [
        "<a href=\"https://colab.research.google.com/github/bestdiya/IMAGE-CLASSIFICATION/blob/main/SEMANTIC_SEGMENTATION.ipynb\" target=\"_parent\"><img src=\"https://colab.research.google.com/assets/colab-badge.svg\" alt=\"Open In Colab\"/></a>"
      ]
    },
    {
      "cell_type": "code",
      "execution_count": 1,
      "metadata": {
        "id": "QncG8ojeNQ1v"
      },
      "outputs": [],
      "source": [
        "# import cv2\n",
        "# import numpy as np\n",
        "# from segmentation_models import Unet\n",
        "# from segmentation_models.utils import set_trainable\n",
        "\n",
        "# # Define the model architecture\n",
        "# model = Unet('resnet34', input_shape=(None, None, 3), classes=1, activation='sigmoid')\n",
        "# model.compile('Adam', 'binary_crossentropy', ['binary_accuracy'])\n",
        "\n",
        "# # Load pre-trained weights (optional)\n",
        "# # model.load_weights('path_to_pretrained_weights.h5')\n",
        "\n",
        "# # Assuming images are stored in a folder named 'images'\n",
        "# image_folder = 'augmented/'\n",
        "\n",
        "# # Create an output folder for saving segmented images\n",
        "# output_folder = 'segmented_images/'\n",
        "# os.makedirs(output_folder, exist_ok=True)\n",
        "\n",
        "# # Process each image\n",
        "# for image_name in os.listdir(image_folder):\n",
        "#     if image_name.endswith('.jpg'):\n",
        "#         # Read the image\n",
        "#         image_path = os.path.join(image_folder, image_name)\n",
        "#         image = cv2.imread(image_path)\n",
        "#         image = cv2.cvtColor(image, cv2.COLOR_BGR2RGB)  # Ensure correct color channels\n",
        "\n",
        "#         # Preprocess the image\n",
        "#         x = cv2.resize(image, (256, 256))\n",
        "#         x = x / 255.0  # Normalize to [0,1]\n",
        "#         x = np.expand_dims(x, axis=0)  # Add batch dimension\n",
        "\n",
        "#         # Perform segmentation\n",
        "#         preds = model.predict(x)\n",
        "#         mask = preds[0] > 0.5  # Threshold the prediction\n",
        "\n",
        "#         # Apply the mask to the original image\n",
        "#         segmented_image = image.copy()\n",
        "#         segmented_image[~mask] = 0  # Set non-masked pixels to black\n",
        "\n",
        "#         # Save the segmented image\n",
        "#         output_path = os.path.join(output_folder, f'segmented_{image_name}')\n",
        "#         cv2.imwrite(output_path, cv2.cvtColor(segmented_image, cv2.COLOR_RGB2BGR))\n",
        "\n",
        "# print(\"Segmentation completed. Results saved in 'segmented_images/' folder.\")\n",
        "\n",
        "import tensorflow as tf\n",
        "from tensorflow.keras import layers, models\n",
        "\n",
        "def build_unet(input_shape, num_classes):\n",
        "    inputs = layers.Input(shape=input_shape)\n",
        "\n",
        "    # Encoder\n",
        "    conv1 = layers.Conv2D(64, 3, activation='relu', padding='same')(inputs)\n",
        "    conv1 = layers.Conv2D(64, 3, activation='relu', padding='same')(conv1)\n",
        "    pool1 = layers.MaxPooling2D(pool_size=(2, 2))(conv1)\n",
        "\n",
        "    conv2 = layers.Conv2D(128, 3, activation='relu', padding='same')(pool1)\n",
        "    conv2 = layers.Conv2D(128, 3, activation='relu', padding='same')(conv2)\n",
        "    pool2 = layers.MaxPooling2D(pool_size=(2, 2))(conv2)\n",
        "\n",
        "    # Bottom\n",
        "    conv3 = layers.Conv2D(256, 3, activation='relu', padding='same')(pool2)\n",
        "    conv3 = layers.Conv2D(256, 3, activation='relu', padding='same')(conv3)\n",
        "\n",
        "    # Decoder\n",
        "    up4 = layers.UpSampling2D(size=(2, 2))(conv3)\n",
        "    concat4 = layers.concatenate([up4, conv2], axis=3)\n",
        "    conv4 = layers.Conv2D(128, 3, activation='relu', padding='same')(concat4)\n",
        "    conv4 = layers.Conv2D(128, 3, activation='relu', padding='same')(conv4)\n",
        "\n",
        "    up5 = layers.UpSampling2D(size=(2, 2))(conv4)\n",
        "    concat5 = layers.concatenate([up5, conv1], axis=3)\n",
        "    conv5 = layers.Conv2D(64, 3, activation='relu', padding='same')(concat5)\n",
        "    conv5 = layers.Conv2D(64, 3, activation='relu', padding='same')(conv5)\n",
        "\n",
        "    outputs = layers.Conv2D(num_classes, 1, activation='softmax')(conv5)\n",
        "\n",
        "    return models.Model(inputs=inputs, outputs=outputs)\n",
        "\n",
        "# Usage\n",
        "input_shape = (256, 256, 3)  # Define your input shape\n",
        "num_classes = 3  # Define the number of classes for segmentation\n",
        "\n",
        "model = build_unet(input_shape, num_classes)\n"
      ]
    },
    {
      "cell_type": "code",
      "source": [
        "!pip install segmentation_models"
      ],
      "metadata": {
        "colab": {
          "base_uri": "https://localhost:8080/"
        },
        "id": "NCSI6D2ZNUSU",
        "outputId": "73697870-01f7-45a5-d404-c5d979f12a89"
      },
      "execution_count": 8,
      "outputs": [
        {
          "output_type": "stream",
          "name": "stdout",
          "text": [
            "Requirement already satisfied: segmentation_models in /usr/local/lib/python3.10/dist-packages (1.0.1)\n",
            "Requirement already satisfied: keras-applications<=1.0.8,>=1.0.7 in /usr/local/lib/python3.10/dist-packages (from segmentation_models) (1.0.8)\n",
            "Requirement already satisfied: image-classifiers==1.0.0 in /usr/local/lib/python3.10/dist-packages (from segmentation_models) (1.0.0)\n",
            "Requirement already satisfied: efficientnet==1.0.0 in /usr/local/lib/python3.10/dist-packages (from segmentation_models) (1.0.0)\n",
            "Requirement already satisfied: scikit-image in /usr/local/lib/python3.10/dist-packages (from efficientnet==1.0.0->segmentation_models) (0.19.3)\n",
            "Requirement already satisfied: numpy>=1.9.1 in /usr/local/lib/python3.10/dist-packages (from keras-applications<=1.0.8,>=1.0.7->segmentation_models) (1.23.5)\n",
            "Requirement already satisfied: h5py in /usr/local/lib/python3.10/dist-packages (from keras-applications<=1.0.8,>=1.0.7->segmentation_models) (3.9.0)\n",
            "Requirement already satisfied: scipy>=1.4.1 in /usr/local/lib/python3.10/dist-packages (from scikit-image->efficientnet==1.0.0->segmentation_models) (1.11.2)\n",
            "Requirement already satisfied: networkx>=2.2 in /usr/local/lib/python3.10/dist-packages (from scikit-image->efficientnet==1.0.0->segmentation_models) (3.1)\n",
            "Requirement already satisfied: pillow!=7.1.0,!=7.1.1,!=8.3.0,>=6.1.0 in /usr/local/lib/python3.10/dist-packages (from scikit-image->efficientnet==1.0.0->segmentation_models) (9.4.0)\n",
            "Requirement already satisfied: imageio>=2.4.1 in /usr/local/lib/python3.10/dist-packages (from scikit-image->efficientnet==1.0.0->segmentation_models) (2.31.3)\n",
            "Requirement already satisfied: tifffile>=2019.7.26 in /usr/local/lib/python3.10/dist-packages (from scikit-image->efficientnet==1.0.0->segmentation_models) (2023.8.30)\n",
            "Requirement already satisfied: PyWavelets>=1.1.1 in /usr/local/lib/python3.10/dist-packages (from scikit-image->efficientnet==1.0.0->segmentation_models) (1.4.1)\n",
            "Requirement already satisfied: packaging>=20.0 in /usr/local/lib/python3.10/dist-packages (from scikit-image->efficientnet==1.0.0->segmentation_models) (23.1)\n"
          ]
        }
      ]
    },
    {
      "cell_type": "code",
      "source": [
        "!pip install keras==2.4.3\n",
        "\n"
      ],
      "metadata": {
        "colab": {
          "base_uri": "https://localhost:8080/",
          "height": 376
        },
        "id": "9miDSxf3Nl4M",
        "outputId": "97b23c98-79a4-4c20-c256-0d029d2fcd99"
      },
      "execution_count": 9,
      "outputs": [
        {
          "output_type": "stream",
          "name": "stdout",
          "text": [
            "Collecting keras==2.4.3\n",
            "  Using cached Keras-2.4.3-py2.py3-none-any.whl (36 kB)\n",
            "Requirement already satisfied: numpy>=1.9.1 in /usr/local/lib/python3.10/dist-packages (from keras==2.4.3) (1.23.5)\n",
            "Requirement already satisfied: scipy>=0.14 in /usr/local/lib/python3.10/dist-packages (from keras==2.4.3) (1.11.2)\n",
            "Requirement already satisfied: pyyaml in /usr/local/lib/python3.10/dist-packages (from keras==2.4.3) (6.0.1)\n",
            "Requirement already satisfied: h5py in /usr/local/lib/python3.10/dist-packages (from keras==2.4.3) (3.9.0)\n",
            "Installing collected packages: keras\n",
            "  Attempting uninstall: keras\n",
            "    Found existing installation: keras 2.13.1\n",
            "    Uninstalling keras-2.13.1:\n",
            "      Successfully uninstalled keras-2.13.1\n",
            "\u001b[31mERROR: pip's dependency resolver does not currently take into account all the packages that are installed. This behaviour is the source of the following dependency conflicts.\n",
            "tensorflow 2.13.0 requires keras<2.14,>=2.13.1, but you have keras 2.4.3 which is incompatible.\u001b[0m\u001b[31m\n",
            "\u001b[0mSuccessfully installed keras-2.4.3\n"
          ]
        },
        {
          "output_type": "display_data",
          "data": {
            "application/vnd.colab-display-data+json": {
              "pip_warning": {
                "packages": [
                  "keras"
                ]
              }
            }
          },
          "metadata": {}
        }
      ]
    },
    {
      "cell_type": "code",
      "source": [
        "# !pip install --upgrade tensorflow\n",
        "!pip install tensorflow\n"
      ],
      "metadata": {
        "colab": {
          "base_uri": "https://localhost:8080/",
          "height": 949
        },
        "id": "uBeRuiXhN6Y-",
        "outputId": "fdc98e06-0370-42f4-e08b-54aba47ec062"
      },
      "execution_count": 10,
      "outputs": [
        {
          "output_type": "stream",
          "name": "stdout",
          "text": [
            "Requirement already satisfied: tensorflow in /usr/local/lib/python3.10/dist-packages (2.13.0)\n",
            "Requirement already satisfied: absl-py>=1.0.0 in /usr/local/lib/python3.10/dist-packages (from tensorflow) (1.4.0)\n",
            "Requirement already satisfied: astunparse>=1.6.0 in /usr/local/lib/python3.10/dist-packages (from tensorflow) (1.6.3)\n",
            "Requirement already satisfied: flatbuffers>=23.1.21 in /usr/local/lib/python3.10/dist-packages (from tensorflow) (23.5.26)\n",
            "Requirement already satisfied: gast<=0.4.0,>=0.2.1 in /usr/local/lib/python3.10/dist-packages (from tensorflow) (0.4.0)\n",
            "Requirement already satisfied: google-pasta>=0.1.1 in /usr/local/lib/python3.10/dist-packages (from tensorflow) (0.2.0)\n",
            "Requirement already satisfied: grpcio<2.0,>=1.24.3 in /usr/local/lib/python3.10/dist-packages (from tensorflow) (1.57.0)\n",
            "Requirement already satisfied: h5py>=2.9.0 in /usr/local/lib/python3.10/dist-packages (from tensorflow) (3.9.0)\n",
            "Collecting keras<2.14,>=2.13.1 (from tensorflow)\n",
            "  Using cached keras-2.13.1-py3-none-any.whl (1.7 MB)\n",
            "Requirement already satisfied: libclang>=13.0.0 in /usr/local/lib/python3.10/dist-packages (from tensorflow) (16.0.6)\n",
            "Requirement already satisfied: numpy<=1.24.3,>=1.22 in /usr/local/lib/python3.10/dist-packages (from tensorflow) (1.23.5)\n",
            "Requirement already satisfied: opt-einsum>=2.3.2 in /usr/local/lib/python3.10/dist-packages (from tensorflow) (3.3.0)\n",
            "Requirement already satisfied: packaging in /usr/local/lib/python3.10/dist-packages (from tensorflow) (23.1)\n",
            "Requirement already satisfied: protobuf!=4.21.0,!=4.21.1,!=4.21.2,!=4.21.3,!=4.21.4,!=4.21.5,<5.0.0dev,>=3.20.3 in /usr/local/lib/python3.10/dist-packages (from tensorflow) (3.20.3)\n",
            "Requirement already satisfied: setuptools in /usr/local/lib/python3.10/dist-packages (from tensorflow) (67.7.2)\n",
            "Requirement already satisfied: six>=1.12.0 in /usr/local/lib/python3.10/dist-packages (from tensorflow) (1.16.0)\n",
            "Requirement already satisfied: tensorboard<2.14,>=2.13 in /usr/local/lib/python3.10/dist-packages (from tensorflow) (2.13.0)\n",
            "Requirement already satisfied: tensorflow-estimator<2.14,>=2.13.0 in /usr/local/lib/python3.10/dist-packages (from tensorflow) (2.13.0)\n",
            "Requirement already satisfied: termcolor>=1.1.0 in /usr/local/lib/python3.10/dist-packages (from tensorflow) (2.3.0)\n",
            "Requirement already satisfied: typing-extensions<4.6.0,>=3.6.6 in /usr/local/lib/python3.10/dist-packages (from tensorflow) (4.5.0)\n",
            "Requirement already satisfied: wrapt>=1.11.0 in /usr/local/lib/python3.10/dist-packages (from tensorflow) (1.15.0)\n",
            "Requirement already satisfied: tensorflow-io-gcs-filesystem>=0.23.1 in /usr/local/lib/python3.10/dist-packages (from tensorflow) (0.33.0)\n",
            "Requirement already satisfied: wheel<1.0,>=0.23.0 in /usr/local/lib/python3.10/dist-packages (from astunparse>=1.6.0->tensorflow) (0.41.2)\n",
            "Requirement already satisfied: google-auth<3,>=1.6.3 in /usr/local/lib/python3.10/dist-packages (from tensorboard<2.14,>=2.13->tensorflow) (2.17.3)\n",
            "Requirement already satisfied: google-auth-oauthlib<1.1,>=0.5 in /usr/local/lib/python3.10/dist-packages (from tensorboard<2.14,>=2.13->tensorflow) (1.0.0)\n",
            "Requirement already satisfied: markdown>=2.6.8 in /usr/local/lib/python3.10/dist-packages (from tensorboard<2.14,>=2.13->tensorflow) (3.4.4)\n",
            "Requirement already satisfied: requests<3,>=2.21.0 in /usr/local/lib/python3.10/dist-packages (from tensorboard<2.14,>=2.13->tensorflow) (2.31.0)\n",
            "Requirement already satisfied: tensorboard-data-server<0.8.0,>=0.7.0 in /usr/local/lib/python3.10/dist-packages (from tensorboard<2.14,>=2.13->tensorflow) (0.7.1)\n",
            "Requirement already satisfied: werkzeug>=1.0.1 in /usr/local/lib/python3.10/dist-packages (from tensorboard<2.14,>=2.13->tensorflow) (2.3.7)\n",
            "Requirement already satisfied: cachetools<6.0,>=2.0.0 in /usr/local/lib/python3.10/dist-packages (from google-auth<3,>=1.6.3->tensorboard<2.14,>=2.13->tensorflow) (5.3.1)\n",
            "Requirement already satisfied: pyasn1-modules>=0.2.1 in /usr/local/lib/python3.10/dist-packages (from google-auth<3,>=1.6.3->tensorboard<2.14,>=2.13->tensorflow) (0.3.0)\n",
            "Requirement already satisfied: rsa<5,>=3.1.4 in /usr/local/lib/python3.10/dist-packages (from google-auth<3,>=1.6.3->tensorboard<2.14,>=2.13->tensorflow) (4.9)\n",
            "Requirement already satisfied: requests-oauthlib>=0.7.0 in /usr/local/lib/python3.10/dist-packages (from google-auth-oauthlib<1.1,>=0.5->tensorboard<2.14,>=2.13->tensorflow) (1.3.1)\n",
            "Requirement already satisfied: charset-normalizer<4,>=2 in /usr/local/lib/python3.10/dist-packages (from requests<3,>=2.21.0->tensorboard<2.14,>=2.13->tensorflow) (3.2.0)\n",
            "Requirement already satisfied: idna<4,>=2.5 in /usr/local/lib/python3.10/dist-packages (from requests<3,>=2.21.0->tensorboard<2.14,>=2.13->tensorflow) (3.4)\n",
            "Requirement already satisfied: urllib3<3,>=1.21.1 in /usr/local/lib/python3.10/dist-packages (from requests<3,>=2.21.0->tensorboard<2.14,>=2.13->tensorflow) (2.0.4)\n",
            "Requirement already satisfied: certifi>=2017.4.17 in /usr/local/lib/python3.10/dist-packages (from requests<3,>=2.21.0->tensorboard<2.14,>=2.13->tensorflow) (2023.7.22)\n",
            "Requirement already satisfied: MarkupSafe>=2.1.1 in /usr/local/lib/python3.10/dist-packages (from werkzeug>=1.0.1->tensorboard<2.14,>=2.13->tensorflow) (2.1.3)\n",
            "Requirement already satisfied: pyasn1<0.6.0,>=0.4.6 in /usr/local/lib/python3.10/dist-packages (from pyasn1-modules>=0.2.1->google-auth<3,>=1.6.3->tensorboard<2.14,>=2.13->tensorflow) (0.5.0)\n",
            "Requirement already satisfied: oauthlib>=3.0.0 in /usr/local/lib/python3.10/dist-packages (from requests-oauthlib>=0.7.0->google-auth-oauthlib<1.1,>=0.5->tensorboard<2.14,>=2.13->tensorflow) (3.2.2)\n",
            "Installing collected packages: keras\n",
            "  Attempting uninstall: keras\n",
            "    Found existing installation: Keras 2.4.3\n",
            "    Uninstalling Keras-2.4.3:\n",
            "      Successfully uninstalled Keras-2.4.3\n",
            "Successfully installed keras-2.13.1\n"
          ]
        },
        {
          "output_type": "display_data",
          "data": {
            "application/vnd.colab-display-data+json": {
              "pip_warning": {
                "packages": [
                  "keras"
                ]
              }
            }
          },
          "metadata": {}
        }
      ]
    },
    {
      "cell_type": "code",
      "source": [
        "# import keras\n",
        "# print(keras.__version__)\n"
      ],
      "metadata": {
        "id": "FIFUThvbN966"
      },
      "execution_count": 11,
      "outputs": []
    },
    {
      "cell_type": "code",
      "source": [
        "model.compile(optimizer='adam', loss='sparse_categorical_crossentropy', metrics=['accuracy'])\n"
      ],
      "metadata": {
        "id": "ACSU4AUOOEA9"
      },
      "execution_count": 2,
      "outputs": []
    },
    {
      "cell_type": "code",
      "source": [
        "!unzip /content/augmented.zip -d /content/darknet/\n",
        "\n"
      ],
      "metadata": {
        "colab": {
          "base_uri": "https://localhost:8080/"
        },
        "id": "NdYsKln1Qbd7",
        "outputId": "bd5e73bd-95bc-426d-9f69-ca528518698f"
      },
      "execution_count": 3,
      "outputs": [
        {
          "output_type": "stream",
          "name": "stdout",
          "text": [
            "Archive:  /content/augmented.zip\n",
            "   creating: /content/darknet/augmented/\n",
            "  inflating: /content/darknet/augmented/aug_0_1646.png  \n",
            "  inflating: /content/darknet/augmented/aug_0_99.png  \n",
            "  inflating: /content/darknet/augmented/aug_0_491.png  \n",
            "  inflating: /content/darknet/augmented/aug_0_7560.png  \n",
            "  inflating: /content/darknet/augmented/aug_0_4202.png  \n",
            "  inflating: /content/darknet/augmented/aug_0_999.png  \n",
            "  inflating: /content/darknet/augmented/aug_0_3688.png  \n",
            "  inflating: /content/darknet/augmented/aug_0_8632.png  \n",
            "  inflating: /content/darknet/augmented/aug_0_8275.png  \n",
            "  inflating: /content/darknet/augmented/aug_0_9077.png  \n",
            "  inflating: /content/darknet/augmented/aug_0_7528.png  \n",
            "  inflating: /content/darknet/augmented/aug_0_2970.png  \n",
            "  inflating: /content/darknet/augmented/aug_0_6043.png  \n",
            "  inflating: /content/darknet/augmented/aug_0_2082.png  \n",
            "  inflating: /content/darknet/augmented/aug_0_2093.png  \n",
            "  inflating: /content/darknet/augmented/aug_0_128.png  \n",
            "  inflating: /content/darknet/augmented/aug_0_3730.png  \n",
            "  inflating: /content/darknet/augmented/aug_0_4531.png  \n",
            "  inflating: /content/darknet/augmented/aug_0_5040.png  \n",
            "  inflating: /content/darknet/augmented/aug_0_2726.png  \n",
            "  inflating: /content/darknet/augmented/aug_0_8392.png  \n"
          ]
        }
      ]
    },
    {
      "cell_type": "code",
      "source": [
        "train_images = '/content/darknet/augmented'\n",
        "test_images = '/content/darknet/test_folder'"
      ],
      "metadata": {
        "id": "W088ApsrRyq0"
      },
      "execution_count": 6,
      "outputs": []
    },
    {
      "cell_type": "code",
      "source": [
        "!unzip /content/test_folder.zip -d /content/darknet/"
      ],
      "metadata": {
        "colab": {
          "base_uri": "https://localhost:8080/"
        },
        "id": "HrreKDgcSW1N",
        "outputId": "8ef633cb-20ea-41b6-d3ed-72960ebca495"
      },
      "execution_count": 5,
      "outputs": [
        {
          "output_type": "stream",
          "name": "stdout",
          "text": [
            "Archive:  /content/test_folder.zip\n",
            "   creating: /content/darknet/test_folder/\n"
          ]
        }
      ]
    },
    {
      "cell_type": "code",
      "source": [
        "!unzip /content/TEXT_APA.zip -d /content/darknet/"
      ],
      "metadata": {
        "colab": {
          "base_uri": "https://localhost:8080/"
        },
        "id": "xPFRdCIVS60m",
        "outputId": "40ad35a6-7a23-4d8e-ebe6-607a8bfc3897"
      },
      "execution_count": 11,
      "outputs": [
        {
          "output_type": "stream",
          "name": "stdout",
          "text": [
            "Archive:  /content/TEXT_APA.zip\n",
            "  inflating: /content/darknet/TEXT_APA/BC-04_Ap_crop_XY05_Z04_RGB.txt  \n",
            "  inflating: /content/darknet/TEXT_APA/BC-04_Ap_crop_XY08_Z04_RGB.txt  \n",
            "  inflating: /content/darknet/TEXT_APA/BC-04_Ap_crop_XY09_Z04_RGB.txt  \n",
            "  inflating: /content/darknet/TEXT_APA/BC-04_Ap_crop_XY11_Z04_RGB.txt  \n",
            "  inflating: /content/darknet/TEXT_APA/BC-04_Ap_crop_XY13_Z04_RGB.txt  \n",
            " extracting: /content/darknet/TEXT_APA/classes.txt  \n",
            "  inflating: /content/darknet/TEXT_APA/DUR-G2_Ap-Lc_XY01_Z03_RGB.txt  \n",
            "  inflating: /content/darknet/TEXT_APA/DUR-G2_Ap-Lc_XY02_Z03_RGB.txt  \n",
            "  inflating: /content/darknet/TEXT_APA/DUR-G2_Ap-Lc_XY03_Z03_RGB.txt  \n",
            "  inflating: /content/darknet/TEXT_APA/DUR-G2_Ap-Lc_XY04_Z03_RGB.txt  \n",
            "  inflating: /content/darknet/TEXT_APA/DUR-G2_Ap-Lc_XY05_Z03_RGB.txt  \n",
            "  inflating: /content/darknet/TEXT_APA/DUR-G2_Ap-Lc_XY06_Z04_RGB.txt  \n",
            "  inflating: /content/darknet/TEXT_APA/DUR-G2_Ap-Lc_XY07_Z04_RGB.txt  \n",
            "  inflating: /content/darknet/TEXT_APA/DUR-G2_Ap-Lc_XY08_Z04_RGB.txt  \n",
            "  inflating: /content/darknet/TEXT_APA/DUR-G2_Ap-Lc_XY09_Z04_RGB.txt  \n",
            "  inflating: /content/darknet/TEXT_APA/DUR-G2_Ap-Lc_XY10_Z04_RGB.txt  \n",
            "  inflating: /content/darknet/TEXT_APA/DUR-G2_Ap-Lc_XY11_Z04_RGB.txt  \n",
            "  inflating: /content/darknet/TEXT_APA/DUR-G2_Ap-Lc_XY12_Z04_RGB.txt  \n",
            "  inflating: /content/darknet/TEXT_APA/DUR-G2_Ap-Lc_XY13_Z04_RGB.txt  \n",
            "  inflating: /content/darknet/TEXT_APA/DUR-G2_Ap-Lc_XY14_Z04_RGB.txt  \n",
            "  inflating: /content/darknet/TEXT_APA/DUR-G2_Ap-Lc_XY15_Z04_RGB.txt  \n",
            "  inflating: /content/darknet/TEXT_APA/DUR-G2_Ap-Lc_XY16_Z04_RGB.txt  \n",
            "  inflating: /content/darknet/TEXT_APA/DUR-G2_Ap-Lc_XY17_Z04_RGB.txt  \n",
            "  inflating: /content/darknet/TEXT_APA/DUR-G2_Ap-Lc_XY18_Z04_RGB.txt  \n",
            "  inflating: /content/darknet/TEXT_APA/DUR-G2_Ap-Lc_XY19_Z04_RGB.txt  \n",
            "  inflating: /content/darknet/TEXT_APA/DUR-G2_Ap-Lc_XY20_Z04_RGB.txt  \n",
            "  inflating: /content/darknet/TEXT_APA/img_XY02_Z06.txt  \n",
            "  inflating: /content/darknet/TEXT_APA/img_XY06_Z05.txt  \n",
            "  inflating: /content/darknet/TEXT_APA/img_XY12_Z05.txt  \n",
            "  inflating: /content/darknet/TEXT_APA/img_XY13_Z05.txt  \n",
            "  inflating: /content/darknet/TEXT_APA/img_XY14_Z05.txt  \n",
            "  inflating: /content/darknet/TEXT_APA/img_XY15_Z05.txt  \n",
            "  inflating: /content/darknet/TEXT_APA/img_XY17_Z05.txt  \n",
            "  inflating: /content/darknet/TEXT_APA/img_XY19_Z05.txt  \n",
            "  inflating: /content/darknet/TEXT_APA/img_XY20_Z05.txt  \n",
            "  inflating: /content/darknet/TEXT_APA/img_XY21_Z05.txt  \n",
            "  inflating: /content/darknet/TEXT_APA/img_XY22_Z05.txt  \n",
            "  inflating: /content/darknet/TEXT_APA/img_XY23_Z05.txt  \n",
            "  inflating: /content/darknet/TEXT_APA/img_XY24_Z04.txt  \n",
            "  inflating: /content/darknet/TEXT_APA/img_XY25_Z04.txt  \n",
            "  inflating: /content/darknet/TEXT_APA/img_XY26_Z04.txt  \n",
            "  inflating: /content/darknet/TEXT_APA/img_XY27_Z04.txt  \n",
            "  inflating: /content/darknet/TEXT_APA/img_XY28_Z06.txt  \n",
            "  inflating: /content/darknet/TEXT_APA/img_XY29_Z06.txt  \n",
            "  inflating: /content/darknet/TEXT_APA/img_XY30_Z06.txt  \n",
            "  inflating: /content/darknet/TEXT_APA/img_XY31_Z06.txt  \n",
            "  inflating: /content/darknet/TEXT_APA/img_XY32_Z06.txt  \n",
            "  inflating: /content/darknet/TEXT_APA/img_XY33_Z06.txt  \n",
            "  inflating: /content/darknet/TEXT_APA/img_XY34_Z06.txt  \n",
            "  inflating: /content/darknet/TEXT_APA/img_XY35_Z06.txt  \n",
            "  inflating: /content/darknet/TEXT_APA/img_XY36_Z06.txt  \n"
          ]
        }
      ]
    },
    {
      "cell_type": "code",
      "source": [
        "import cv2\n",
        "import numpy as np\n",
        "import os\n",
        "\n",
        "# Define the paths\n",
        "image_folder = '/content/darknet/augmented'\n",
        "text_folder = '/content/darknet/TEXT_APA'\n",
        "output_folder = '/content/masks'\n",
        "\n",
        "# Create the output folder if it doesn't exist\n",
        "os.makedirs(output_folder, exist_ok=True)\n",
        "\n",
        "# Iterate through the images and their corresponding text files\n",
        "for image_file in os.listdir(image_folder):\n",
        "    if image_file.endswith(\".jpg\"):  # Assuming images are in JPG format\n",
        "\n",
        "        # Load the image\n",
        "        image_path = os.path.join(image_folder, image_file)\n",
        "        img = cv2.imread(image_path)\n",
        "        img_height, img_width = img.shape[:2]\n",
        "\n",
        "        # Load the corresponding text file\n",
        "        text_file = image_file.replace(\".jpg\", \".txt\")\n",
        "        text_path = os.path.join(text_folder, text_file)\n",
        "\n",
        "        # Initialize an empty mask\n",
        "        mask = np.zeros((img_height, img_width), dtype=np.uint8)\n",
        "\n",
        "        # Read the bounding box coordinates from the text file\n",
        "        with open(text_path, 'r') as file:\n",
        "            lines = file.readlines()\n",
        "            for line in lines:\n",
        "                xmin, ymin, xmax, ymax = map(int, line.strip().split())\n",
        "                mask[ymin:ymax, xmin:xmax] = 255  # Set the region inside the bounding box to white\n",
        "\n",
        "        # Save the mask\n",
        "        mask_file = image_file.replace(\".jpg\", \"_mask.png\")\n",
        "        mask_path = os.path.join(output_folder, mask_file)\n",
        "        cv2.imwrite(mask_path, mask)\n"
      ],
      "metadata": {
        "id": "ykeckZpdWH83"
      },
      "execution_count": 24,
      "outputs": []
    },
    {
      "cell_type": "code",
      "source": [
        "import os\n",
        "os.makedirs(output_folder, exist_ok=True)"
      ],
      "metadata": {
        "id": "dlj3A1k3Wj0c"
      },
      "execution_count": 25,
      "outputs": []
    },
    {
      "cell_type": "code",
      "source": [
        "train_images = '/content/darknet/augmented/augmented'\n",
        "train_masks = '/content/masks'\n",
        "test_images = '/content/darknet/test_folder'"
      ],
      "metadata": {
        "id": "mEQ0qxp-Y7Xc"
      },
      "execution_count": 26,
      "outputs": []
    },
    {
      "cell_type": "code",
      "source": [
        "# model.fit(train_images)\n"
      ],
      "metadata": {
        "id": "U37NWA4vbGj8"
      },
      "execution_count": 30,
      "outputs": []
    },
    {
      "cell_type": "code",
      "source": [],
      "metadata": {
        "id": "5fqWE0ZXbO_o"
      },
      "execution_count": null,
      "outputs": []
    }
  ]
}